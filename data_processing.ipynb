{
 "cells": [
  {
   "cell_type": "code",
   "execution_count": 1,
   "id": "9f1d4f43",
   "metadata": {},
   "outputs": [
    {
     "ename": "FileNotFoundError",
     "evalue": "[Errno 2] No such file or directory: 'wikitext.txt'",
     "output_type": "error",
     "traceback": [
      "\u001b[0;31m---------------------------------------------------------------------------\u001b[0m",
      "\u001b[0;31mFileNotFoundError\u001b[0m                         Traceback (most recent call last)",
      "\u001b[0;32m/var/folders/bt/5jldcyhx0m35qg300bx_sm980000gn/T/ipykernel_36809/1970181124.py\u001b[0m in \u001b[0;36m<module>\u001b[0;34m\u001b[0m\n\u001b[1;32m     44\u001b[0m \u001b[0;32mif\u001b[0m \u001b[0m__name__\u001b[0m \u001b[0;34m==\u001b[0m \u001b[0;34m\"__main__\"\u001b[0m\u001b[0;34m:\u001b[0m\u001b[0;34m\u001b[0m\u001b[0;34m\u001b[0m\u001b[0m\n\u001b[1;32m     45\u001b[0m     \u001b[0mprocessed_line\u001b[0m \u001b[0;34m=\u001b[0m \u001b[0;36m0\u001b[0m\u001b[0;34m\u001b[0m\u001b[0;34m\u001b[0m\u001b[0m\n\u001b[0;32m---> 46\u001b[0;31m     \u001b[0;32mwith\u001b[0m \u001b[0mopen\u001b[0m\u001b[0;34m(\u001b[0m\u001b[0mfile_in\u001b[0m\u001b[0;34m,\u001b[0m \u001b[0;34m'r'\u001b[0m\u001b[0;34m,\u001b[0m \u001b[0mencoding\u001b[0m\u001b[0;34m=\u001b[0m\u001b[0;34m'UTF-8'\u001b[0m\u001b[0;34m)\u001b[0m \u001b[0;32mas\u001b[0m \u001b[0mfile\u001b[0m\u001b[0;34m:\u001b[0m\u001b[0;34m\u001b[0m\u001b[0;34m\u001b[0m\u001b[0m\n\u001b[0m\u001b[1;32m     47\u001b[0m         \u001b[0;31m# text BUFFER_SIZE 만큼 분할 -> 분할된 리스트 형태\u001b[0m\u001b[0;34m\u001b[0m\u001b[0;34m\u001b[0m\u001b[0m\n\u001b[1;32m     48\u001b[0m         \u001b[0;31m# ex) BUFFER_SIZE=1GB -> [1GB, 1GB, ..., 나머지 B]\u001b[0m\u001b[0;34m\u001b[0m\u001b[0;34m\u001b[0m\u001b[0m\n",
      "\u001b[0;31mFileNotFoundError\u001b[0m: [Errno 2] No such file or directory: 'wikitext.txt'"
     ]
    }
   ],
   "source": [
    "from concurrent import futures\n",
    "from io import TextIOWrapper\n",
    "from nltk.tokenize import word_tokenize\n",
    "from nltk.tag import pos_tag\n",
    "from tqdm import tqdm\n",
    "from typing import List\n",
    "import time\n",
    "import re\n",
    "\n",
    "BUFFER_SIZE = 1024 * 1024 * 500 # 500 MB\n",
    "CHUNK_SIZE = 100000\n",
    "\n",
    "file_in = 'wikitext.txt'\n",
    "file_out = 'processed_text.txt'\n",
    "\n",
    "def text_generator(file_object: TextIOWrapper):\n",
    "    while True:\n",
    "        lines = file_object.readlines(BUFFER_SIZE)\n",
    "        if not lines: break\n",
    "        yield lines\n",
    "\n",
    "def segment_chunk(segment: List[str], chunk_size: int):\n",
    "    return [segment[i:i+chunk_size] for i in range(0, len(segment), chunk_size)]\n",
    "\n",
    "def text_processing(segment: List[str]):\n",
    "    p = re.compile(\"^</?doc\")\n",
    "    processed_lines = []\n",
    "\n",
    "    for line in segment:\n",
    "        line = line.strip()\n",
    "        if p.match(line) or line is None:\n",
    "            continue\n",
    "        nouns = [word for word, tag in pos_tag(word_tokenize(line)) if tag == 'NN']\n",
    "        processed_lines.append(nouns)\n",
    "\n",
    "    tmp = [','.join(nouns) for nouns in processed_lines]\n",
    "    data = '\\n'.join(tmp)\n",
    "\n",
    "    with open(file_out, 'a', encoding='UTF-8') as f:\n",
    "        f.write(data)\n",
    "    \n",
    "    # print(f\"{len(segment)} lines processing complete.\")\n",
    "\n",
    "if __name__ == \"__main__\":\n",
    "    processed_line = 0\n",
    "    with open(file_in, 'r', encoding='UTF-8') as file:\n",
    "        # text BUFFER_SIZE 만큼 분할 -> 분할된 리스트 형태\n",
    "        # ex) BUFFER_SIZE=1GB -> [1GB, 1GB, ..., 나머지 B]\n",
    "        segments = text_generator(file)\n",
    "        start_time = time.time()\n",
    "        # 전처리된 데이터를 쓸 파일 초기화\n",
    "        with open(file_out, 'w', encoding='UTF-8'):\n",
    "            pass\n",
    "        # 분할된 text의 CHUNK_SIZE 만큼 분할 시켜서 각 프로세스에 할당\n",
    "        # ex) segment=1GB -> CHUNK_SIZE 만큼 쪼개서 각 프로세스에 할당\n",
    "        # chunked_segment -> [CHUNK_SIZE, CHUNK_SIZE, ..., 나머지]\n",
    "        for segment in segments:\n",
    "            s_time = time.time()\n",
    "            chunked_segment = segment_chunk(segment, CHUNK_SIZE)\n",
    "            with futures.ProcessPoolExecutor() as executor:\n",
    "                executor.map(text_processing, tqdm(chunked_segment))\n",
    "            processed_line += len(segment)\n",
    "            print(f\"현재 처리된 라인 수 : {processed_line}\")\n",
    "\n",
    "        print(f\"총 소요 시간 : {time.time() - start_time} sec\")\n"
   ]
  },
  {
   "cell_type": "code",
   "execution_count": null,
   "id": "5ee2fa05",
   "metadata": {},
   "outputs": [],
   "source": []
  }
 ],
 "metadata": {
  "kernelspec": {
   "display_name": "Python 3 (ipykernel)",
   "language": "python",
   "name": "python3"
  },
  "language_info": {
   "codemirror_mode": {
    "name": "ipython",
    "version": 3
   },
   "file_extension": ".py",
   "mimetype": "text/x-python",
   "name": "python",
   "nbconvert_exporter": "python",
   "pygments_lexer": "ipython3",
   "version": "3.9.7"
  }
 },
 "nbformat": 4,
 "nbformat_minor": 5
}

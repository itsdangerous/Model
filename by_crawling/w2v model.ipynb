{
 "cells": [
  {
   "cell_type": "markdown",
   "id": "e0b65aac",
   "metadata": {},
   "source": [
    "### txt 파일로 데이터 프레임 만들고 토큰화 등 전처리"
   ]
  },
  {
   "cell_type": "code",
   "execution_count": 1,
   "id": "9e20a78b",
   "metadata": {},
   "outputs": [],
   "source": [
    "import pandas as pd\n",
    "import re\n",
    "import urllib.request\n",
    "import zipfile\n",
    "from lxml import etree\n",
    "from nltk.tokenize import word_tokenize, sent_tokenize\n",
    "from tqdm import tqdm\n",
    "from tensorflow.keras.preprocessing.text import text_to_word_sequence"
   ]
  },
  {
   "cell_type": "code",
   "execution_count": 2,
   "id": "7db3beb4",
   "metadata": {},
   "outputs": [],
   "source": [
    "train_data = pd.read_table('result.txt', header = None) # txt파일로 데이터 테이블 생성"
   ]
  },
  {
   "cell_type": "code",
   "execution_count": 3,
   "id": "4eac188a",
   "metadata": {},
   "outputs": [],
   "source": [
    "train_data.columns = ['document'] # 컬럼 명을 정해주고"
   ]
  },
  {
   "cell_type": "code",
   "execution_count": 4,
   "id": "0af38fbe",
   "metadata": {},
   "outputs": [
    {
     "data": {
      "text/html": [
       "<div>\n",
       "<style scoped>\n",
       "    .dataframe tbody tr th:only-of-type {\n",
       "        vertical-align: middle;\n",
       "    }\n",
       "\n",
       "    .dataframe tbody tr th {\n",
       "        vertical-align: top;\n",
       "    }\n",
       "\n",
       "    .dataframe thead th {\n",
       "        text-align: right;\n",
       "    }\n",
       "</style>\n",
       "<table border=\"1\" class=\"dataframe\">\n",
       "  <thead>\n",
       "    <tr style=\"text-align: right;\">\n",
       "      <th></th>\n",
       "      <th>document</th>\n",
       "    </tr>\n",
       "  </thead>\n",
       "  <tbody>\n",
       "    <tr>\n",
       "      <th>0</th>\n",
       "      <td>Oxygen is the chemical element with the symbol...</td>\n",
       "    </tr>\n",
       "    <tr>\n",
       "      <th>1</th>\n",
       "      <td>Oxygen was isolated by Michael Sendivogius bef...</td>\n",
       "    </tr>\n",
       "    <tr>\n",
       "      <th>2</th>\n",
       "      <td>Common uses of oxygen include production of st...</td>\n",
       "    </tr>\n",
       "    <tr>\n",
       "      <th>3</th>\n",
       "      <td>History of study</td>\n",
       "    </tr>\n",
       "    <tr>\n",
       "      <th>4</th>\n",
       "      <td>Early experiments</td>\n",
       "    </tr>\n",
       "    <tr>\n",
       "      <th>...</th>\n",
       "      <td>...</td>\n",
       "    </tr>\n",
       "    <tr>\n",
       "      <th>96</th>\n",
       "      <td>Oxygen (O2) Properties, Uses, Applications</td>\n",
       "    </tr>\n",
       "    <tr>\n",
       "      <th>97</th>\n",
       "      <td>Roald Hoffmann article on \"The Story of O\"</td>\n",
       "    </tr>\n",
       "    <tr>\n",
       "      <th>98</th>\n",
       "      <td>WebElements.com – Oxygen</td>\n",
       "    </tr>\n",
       "    <tr>\n",
       "      <th>99</th>\n",
       "      <td>Oxygen on In Our Time at the BBC</td>\n",
       "    </tr>\n",
       "    <tr>\n",
       "      <th>100</th>\n",
       "      <td>Scripps Institute: Atmospheric Oxygen has been...</td>\n",
       "    </tr>\n",
       "  </tbody>\n",
       "</table>\n",
       "<p>101 rows × 1 columns</p>\n",
       "</div>"
      ],
      "text/plain": [
       "                                              document\n",
       "0    Oxygen is the chemical element with the symbol...\n",
       "1    Oxygen was isolated by Michael Sendivogius bef...\n",
       "2    Common uses of oxygen include production of st...\n",
       "3                                     History of study\n",
       "4                                    Early experiments\n",
       "..                                                 ...\n",
       "96          Oxygen (O2) Properties, Uses, Applications\n",
       "97          Roald Hoffmann article on \"The Story of O\"\n",
       "98                            WebElements.com – Oxygen\n",
       "99                    Oxygen on In Our Time at the BBC\n",
       "100  Scripps Institute: Atmospheric Oxygen has been...\n",
       "\n",
       "[101 rows x 1 columns]"
      ]
     },
     "execution_count": 4,
     "metadata": {},
     "output_type": "execute_result"
    }
   ],
   "source": [
    " train_data # 출력해보기"
   ]
  },
  {
   "cell_type": "code",
   "execution_count": 5,
   "id": "7cd324ca",
   "metadata": {},
   "outputs": [
    {
     "name": "stdout",
     "output_type": "stream",
     "text": [
      "False\n"
     ]
    }
   ],
   "source": [
    "# NULL 값 존재 유무\n",
    "print(train_data.isnull().values.any())"
   ]
  },
  {
   "cell_type": "code",
   "execution_count": 6,
   "id": "7aecdb16",
   "metadata": {},
   "outputs": [
    {
     "name": "stdout",
     "output_type": "stream",
     "text": [
      "False\n"
     ]
    }
   ],
   "source": [
    "train_data = train_data.dropna(how = 'any') # Null 값이 존재하는 행 제거\n",
    "print(train_data.isnull().values.any()) # Null 값이 존재하는지 확인"
   ]
  },
  {
   "cell_type": "code",
   "execution_count": 7,
   "id": "5d254bf1",
   "metadata": {},
   "outputs": [],
   "source": [
    "features = train_data['document'].tolist() # 데이터 프레임의 'documnet' 의 내용을\n",
    "                                            # 리스트로 변환"
   ]
  },
  {
   "cell_type": "code",
   "execution_count": 8,
   "id": "4d2ec470",
   "metadata": {},
   "outputs": [],
   "source": [
    "parse_text = \"\".join([str(_) for _ in features]) #리스트로 변환 된 것을 문자열로 변환"
   ]
  },
  {
   "cell_type": "code",
   "execution_count": 9,
   "id": "6e90f3e3",
   "metadata": {},
   "outputs": [],
   "source": [
    "content_text = re.sub(r'\\([^)]*\\)', '', parse_text) # 괄호로 구성된 내용 제거"
   ]
  },
  {
   "cell_type": "code",
   "execution_count": 10,
   "id": "c9ce2248",
   "metadata": {},
   "outputs": [],
   "source": [
    "sent_text = sent_tokenize(content_text) # lntk를 이용하여 문장 토큰화 수행."
   ]
  },
  {
   "cell_type": "code",
   "execution_count": 11,
   "id": "7ffa6b2d",
   "metadata": {},
   "outputs": [],
   "source": [
    "# 각 문장에 대해 구두점 제거 밑 대문자 -> 소문자로 변환\n",
    "\n",
    "normalized_text = []\n",
    "for string in sent_text:\n",
    "     tokens = re.sub(r\"[^a-z0-9]+\", \" \", string.lower())\n",
    "     normalized_text.append(tokens)"
   ]
  },
  {
   "cell_type": "code",
   "execution_count": 12,
   "id": "ac1c1100",
   "metadata": {},
   "outputs": [],
   "source": [
    "# 각 문장에 대해 nltk를 이용하여 단어 토큰화 수행\n",
    "\n",
    "result = [word_tokenize(sentence) for sentence in normalized_text]"
   ]
  },
  {
   "cell_type": "code",
   "execution_count": 13,
   "id": "875c07fe",
   "metadata": {},
   "outputs": [
    {
     "name": "stdout",
     "output_type": "stream",
     "text": [
      "총 샘플의 개수 : 233\n"
     ]
    }
   ],
   "source": [
    "print('총 샘플의 개수 : {}'.format(len(result)))"
   ]
  },
  {
   "cell_type": "code",
   "execution_count": 14,
   "id": "9d2e7846",
   "metadata": {},
   "outputs": [
    {
     "name": "stdout",
     "output_type": "stream",
     "text": [
      "['oxygen', 'is', 'the', 'chemical', 'element', 'with', 'the', 'symbol', 'o', 'and', 'atomic', 'number', '8']\n",
      "['it', 'is', 'a', 'member', 'of', 'the', 'chalcogen', 'group', 'in', 'the', 'periodic', 'table', 'a', 'highly', 'reactive', 'nonmetal', 'and', 'an', 'oxidizing', 'agent', 'that', 'readily', 'forms', 'oxides', 'with', 'most', 'elements', 'as', 'well', 'as', 'with', 'other', 'compounds']\n",
      "['oxygen', 'is', 'earth', 's', 'most', 'abundant', 'element', 'and', 'after', 'hydrogen', 'and', 'helium', 'it', 'is', 'the', 'third', 'most', 'abundant', 'element', 'in', 'the', 'universe']\n"
     ]
    }
   ],
   "source": [
    "# 샘플 3개만 출력\n",
    "for line in result[:3]:\n",
    "    print(line)"
   ]
  },
  {
   "cell_type": "markdown",
   "id": "9712fbbe",
   "metadata": {},
   "source": [
    "### Word2Vec 훈련시키기\n",
    "size- = 워드 벡터의 특징 값. 즉, 임베딩 된 벡터의 차원.<br>\n",
    "window = 컨텍스트 윈도우 크기<br>\n",
    "min_count = 단어 최소 빈도 수 제한 (빈도가 적은 단어들은 학습하지 않는다.)<br>\n",
    "workers = 학습을 위한 프로세스 수<br>\n",
    "sg = 0은 CBOW, 1은 Skip-gram.<br>"
   ]
  },
  {
   "cell_type": "code",
   "execution_count": 15,
   "id": "43ebeeec",
   "metadata": {},
   "outputs": [],
   "source": [
    "from gensim.models import Word2Vec\n",
    "from gensim.models import KeyedVectors\n",
    "\n",
    "model = Word2Vec(sentences=result, size=100, window=5, min_count=5, workers=4, sg=0)"
   ]
  },
  {
   "cell_type": "code",
   "execution_count": 16,
   "id": "7609b0ae",
   "metadata": {},
   "outputs": [
    {
     "name": "stdout",
     "output_type": "stream",
     "text": [
      "[('and', 0.9992905855178833), ('of', 0.9991757869720459), ('in', 0.9991697072982788), ('a', 0.9991617202758789), ('is', 0.9991567730903625), ('oxygen', 0.9991112351417542), ('to', 0.9990828037261963), ('the', 0.9990788698196411), ('2', 0.9990768432617188), ('by', 0.9990584850311279)]\n"
     ]
    }
   ],
   "source": [
    "model_result = model.wv.most_similar(\"chemical\")\n",
    "print(model_result)"
   ]
  },
  {
   "cell_type": "code",
   "execution_count": 17,
   "id": "92374d99",
   "metadata": {},
   "outputs": [],
   "source": [
    "model.wv.save_word2vec_format('eng_w2v') # 모델 저장\n",
    "loaded_model = KeyedVectors.load_word2vec_format(\"eng_w2v\") # 모델 로드"
   ]
  },
  {
   "cell_type": "markdown",
   "id": "55854dad",
   "metadata": {},
   "source": [
    "### 데이터 더 모아서 학습시키면 더 좋은 결과 얻을 수 있음"
   ]
  },
  {
   "cell_type": "code",
   "execution_count": 45,
   "id": "9d809986",
   "metadata": {},
   "outputs": [
    {
     "name": "stdout",
     "output_type": "stream",
     "text": [
      "[('and', 0.9992905855178833), ('of', 0.9991757869720459), ('in', 0.9991697072982788), ('a', 0.9991617202758789), ('is', 0.9991567730903625), ('oxygen', 0.9991112351417542), ('to', 0.9990828037261963), ('the', 0.9990788698196411), ('2', 0.9990768432617188), ('by', 0.9990584850311279)]\n"
     ]
    }
   ],
   "source": [
    "model_result = loaded_model.most_similar(\"chemical\")\n",
    "print(model_result)"
   ]
  },
  {
   "cell_type": "markdown",
   "id": "8faadd28",
   "metadata": {},
   "source": [
    "### word2word로 영어 번역"
   ]
  },
  {
   "cell_type": "code",
   "execution_count": 47,
   "id": "c1ab3edc",
   "metadata": {
    "scrolled": true
   },
   "outputs": [],
   "source": [
    "from word2word import Word2word"
   ]
  },
  {
   "cell_type": "code",
   "execution_count": 48,
   "id": "79d8a3a5",
   "metadata": {},
   "outputs": [
    {
     "name": "stdout",
     "output_type": "stream",
     "text": [
      "['and', '해서', '랑', '모든', '집']\n"
     ]
    }
   ],
   "source": [
    "en2kr = Word2word('en', 'ko')\n",
    "\n",
    "kr2en = Word2word('ko', 'en')\n",
    "print(en2kr(model_result[0][0]))"
   ]
  },
  {
   "cell_type": "markdown",
   "id": "cdb11b5f",
   "metadata": {},
   "source": [
    "### 근데 우리가 하려는게 이런 거 아니었나...;;"
   ]
  },
  {
   "cell_type": "code",
   "execution_count": 49,
   "id": "97e5e10b",
   "metadata": {},
   "outputs": [
    {
     "data": {
      "text/plain": [
       "['산소', '공급', '이산화', '탄소', '호흡기']"
      ]
     },
     "execution_count": 49,
     "metadata": {},
     "output_type": "execute_result"
    }
   ],
   "source": [
    "en2kr('oxygen') # ㅋㅋㅋㅋ"
   ]
  },
  {
   "cell_type": "code",
   "execution_count": null,
   "id": "de428759",
   "metadata": {},
   "outputs": [],
   "source": []
  }
 ],
 "metadata": {
  "kernelspec": {
   "display_name": "Python 3 (ipykernel)",
   "language": "python",
   "name": "python3"
  },
  "language_info": {
   "codemirror_mode": {
    "name": "ipython",
    "version": 3
   },
   "file_extension": ".py",
   "mimetype": "text/x-python",
   "name": "python",
   "nbconvert_exporter": "python",
   "pygments_lexer": "ipython3",
   "version": "3.9.7"
  }
 },
 "nbformat": 4,
 "nbformat_minor": 5
}
